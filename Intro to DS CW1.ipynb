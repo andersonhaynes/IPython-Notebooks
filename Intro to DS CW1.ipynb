{
 "metadata": {
  "name": "",
  "signature": "sha256:4e9a0559a45ef378a91800c6517cf7cbdc2181f6c53deb997d252eb159f4023e"
 },
 "nbformat": 3,
 "nbformat_minor": 0,
 "worksheets": [
  {
   "cells": [
    {
     "cell_type": "markdown",
     "metadata": {},
     "source": []
    },
    {
     "cell_type": "code",
     "collapsed": false,
     "input": [
      "import sys\n",
      "import os as os\n",
      "import pandas as pd\n",
      "import numpy as np\n",
      "import seaborn as sb\n",
      "import matplotlib.pyplot as plt\n",
      "import statsmodels.api as sm\n",
      "import scipy as sci "
     ],
     "language": "python",
     "metadata": {},
     "outputs": [],
     "prompt_number": 1
    },
    {
     "cell_type": "code",
     "collapsed": false,
     "input": [
      "os.getcwd() #get current working directory"
     ],
     "language": "python",
     "metadata": {},
     "outputs": [
      {
       "metadata": {},
       "output_type": "pyout",
       "prompt_number": 3,
       "text": [
        "'C:\\\\Users\\\\andersonhaynes\\\\Documents\\\\IPython Notebooks'"
       ]
      }
     ],
     "prompt_number": 3
    },
    {
     "cell_type": "code",
     "collapsed": false,
     "input": [
      "os.chdir(\"C:/Users/andersonhaynes/Desktop/DataHealthProfiles\") #change working directory"
     ],
     "language": "python",
     "metadata": {},
     "outputs": [],
     "prompt_number": 5
    },
    {
     "cell_type": "code",
     "collapsed": false,
     "input": [
      "os.getcwd()"
     ],
     "language": "python",
     "metadata": {},
     "outputs": [
      {
       "metadata": {},
       "output_type": "pyout",
       "prompt_number": 6,
       "text": [
        "'C:\\\\Users\\\\andersonhaynes\\\\Desktop\\\\DataHealthProfiles'"
       ]
      }
     ],
     "prompt_number": 6
    },
    {
     "cell_type": "code",
     "collapsed": false,
     "input": [
      "GCSE = pd.read_csv(\"GCSEachieved5ACincEngMathsCSV.csv\") #load csv files. Independent Variable\n",
      "GCSE.count() "
     ],
     "language": "python",
     "metadata": {},
     "outputs": [
      {
       "metadata": {},
       "output_type": "pyout",
       "prompt_number": 13,
       "text": [
        "Indicator Name: GCSE achieved (5A-C inc. Eng & Maths)    376\n",
        "Unnamed: 1                                               376\n",
        "Unnamed: 2                                               362\n",
        "Unnamed: 3                                               325\n",
        "Unnamed: 4                                               362\n",
        "Unnamed: 5                                               362\n",
        "Unnamed: 6                                               362\n",
        "Unnamed: 7                                               362\n",
        "Unnamed: 8                                               362\n",
        "Unnamed: 9                                               362\n",
        "Unnamed: 10                                              362\n",
        "Unnamed: 11                                              362\n",
        "Unnamed: 12                                              362\n",
        "dtype: int64"
       ]
      }
     ],
     "prompt_number": 13
    },
    {
     "cell_type": "code",
     "collapsed": false,
     "input": [
      "GCSE_slice = GCSE[56:380]\n",
      "GCSE_matrix = np.asmatrix(GCSE_slice)\n",
      "GCSE_DF = pd.DataFrame(GCSE_matrix, columns=[\"ONSCode(old)\", \"ONSCode\", \"AreaName\", \"ONSCluster\", \"Period\", \"AggregateNumerator\", \"AggregateDenominator\", \"SingleYearNumerator\", \"SingleYearDenominator\", \"IndicatorValue\", \"Lower95%CI\", \"Upper95%CI\", \"Significance\"])\n",
      "GCSE_DF.head(n=1)"
     ],
     "language": "python",
     "metadata": {},
     "outputs": [
      {
       "html": [
        "<div style=\"max-height:1000px;max-width:1500px;overflow:auto;\">\n",
        "<table border=\"1\" class=\"dataframe\">\n",
        "  <thead>\n",
        "    <tr style=\"text-align: right;\">\n",
        "      <th></th>\n",
        "      <th>ONSCode(old)</th>\n",
        "      <th>ONSCode</th>\n",
        "      <th>AreaName</th>\n",
        "      <th>ONSCluster</th>\n",
        "      <th>Period</th>\n",
        "      <th>AggregateNumerator</th>\n",
        "      <th>AggregateDenominator</th>\n",
        "      <th>SingleYearNumerator</th>\n",
        "      <th>SingleYearDenominator</th>\n",
        "      <th>IndicatorValue</th>\n",
        "      <th>Lower95%CI</th>\n",
        "      <th>Upper95%CI</th>\n",
        "      <th>Significance</th>\n",
        "    </tr>\n",
        "  </thead>\n",
        "  <tbody>\n",
        "    <tr>\n",
        "      <th>0</th>\n",
        "      <td> 00AB</td>\n",
        "      <td> E09000002</td>\n",
        "      <td> Barking and Dagenham LB</td>\n",
        "      <td> ONS1.2</td>\n",
        "      <td> 2011/12</td>\n",
        "      <td> n/a</td>\n",
        "      <td> n/a</td>\n",
        "      <td> 1232</td>\n",
        "      <td> 2101</td>\n",
        "      <td> 58.63874346</td>\n",
        "      <td> 56.5190061</td>\n",
        "      <td> 60.72694839</td>\n",
        "      <td> Not significantly different from England average</td>\n",
        "    </tr>\n",
        "  </tbody>\n",
        "</table>\n",
        "</div>"
       ],
       "metadata": {},
       "output_type": "pyout",
       "prompt_number": 50,
       "text": [
        "  ONSCode(old)    ONSCode                 AreaName ONSCluster   Period  \\\n",
        "0         00AB  E09000002  Barking and Dagenham LB     ONS1.2  2011/12   \n",
        "\n",
        "  AggregateNumerator AggregateDenominator SingleYearNumerator  \\\n",
        "0                n/a                  n/a                1232   \n",
        "\n",
        "  SingleYearDenominator IndicatorValue  Lower95%CI   Upper95%CI  \\\n",
        "0                  2101    58.63874346  56.5190061  60.72694839   \n",
        "\n",
        "                                       Significance  \n",
        "0  Not significantly different from England average  "
       ]
      }
     ],
     "prompt_number": 50
    },
    {
     "cell_type": "code",
     "collapsed": false,
     "input": [
      "Drug = pd.read_csv(\"DrugmisuseCSV.csv\") #load csv files. Dependent Variable\n",
      "Drug_slice = Drug[56:80]\n",
      "Drug_matrix = np.asmatrix(Drug_slice)\n",
      "Drug_DF = pd.DataFrame(Drug_matrix, columns=[\"ONSCode(old)\", \"ONSCode\", \"AreaName\", \"ONSCluster\", \"Period\", \"AggregateNumerator\", \"AggregateDenominator\", \"SingleYearNumerator\", \"SingleYearDenominator\", \"IndicatorValue\", \"Lower95%CI\", \"Upper95%CI\", \"Significance\"])\n",
      "Drug_DF.head(n=1)"
     ],
     "language": "python",
     "metadata": {},
     "outputs": [
      {
       "html": [
        "<div style=\"max-height:1000px;max-width:1500px;overflow:auto;\">\n",
        "<table border=\"1\" class=\"dataframe\">\n",
        "  <thead>\n",
        "    <tr style=\"text-align: right;\">\n",
        "      <th></th>\n",
        "      <th>ONSCode(old)</th>\n",
        "      <th>ONSCode</th>\n",
        "      <th>AreaName</th>\n",
        "      <th>ONSCluster</th>\n",
        "      <th>Period</th>\n",
        "      <th>AggregateNumerator</th>\n",
        "      <th>AggregateDenominator</th>\n",
        "      <th>SingleYearNumerator</th>\n",
        "      <th>SingleYearDenominator</th>\n",
        "      <th>IndicatorValue</th>\n",
        "      <th>Lower95%CI</th>\n",
        "      <th>Upper95%CI</th>\n",
        "      <th>Significance</th>\n",
        "    </tr>\n",
        "  </thead>\n",
        "  <tbody>\n",
        "    <tr>\n",
        "      <th>0</th>\n",
        "      <td> 00AB</td>\n",
        "      <td> E09000002</td>\n",
        "      <td> Barking and Dagenham LB</td>\n",
        "      <td> ONS1.2</td>\n",
        "      <td> 2010/11</td>\n",
        "      <td> n/a</td>\n",
        "      <td> n/a</td>\n",
        "      <td> 994</td>\n",
        "      <td> 118700</td>\n",
        "      <td> 8.370696171</td>\n",
        "      <td> 7.858237164</td>\n",
        "      <td> 8.907798634</td>\n",
        "      <td> Not significantly different from England average</td>\n",
        "    </tr>\n",
        "  </tbody>\n",
        "</table>\n",
        "</div>"
       ],
       "metadata": {},
       "output_type": "pyout",
       "prompt_number": 28,
       "text": [
        "  ONSCode(old)    ONSCode                 AreaName ONSCluster   Period  \\\n",
        "0         00AB  E09000002  Barking and Dagenham LB     ONS1.2  2010/11   \n",
        "\n",
        "  AggregateNumerator AggregateDenominator SingleYearNumerator  \\\n",
        "0                n/a                  n/a                 994   \n",
        "\n",
        "  SingleYearDenominator IndicatorValue   Lower95%CI   Upper95%CI  \\\n",
        "0                118700    8.370696171  7.858237164  8.907798634   \n",
        "\n",
        "                                       Significance  \n",
        "0  Not significantly different from England average  "
       ]
      }
     ],
     "prompt_number": 28
    },
    {
     "cell_type": "code",
     "collapsed": false,
     "input": [],
     "language": "python",
     "metadata": {},
     "outputs": [],
     "prompt_number": 28
    },
    {
     "cell_type": "code",
     "collapsed": false,
     "input": [
      "LTermUnemp = pd.read_csv(\"LongtermunemploymentCSV.csv\") #load csv files. Dependent Variable\n",
      "LTermUnemp_slice = LTermUnemp[56:376]\n",
      "LTermUnemp_matrix = np.asmatrix(LTermUnemp_slice)\n",
      "LTermUnemp_DF = pd.DataFrame(LTermUnemp_matrix, columns=[\"ONS Code (old)\", \"ONSCode\", \"AreaName\", \"ONSCluster\", \"Period\", \"AggregateNumerator\", \"AggregateDenominator\", \"SingleYearNumerator\", \"SingleYearDenominator\", \"IndicatorValue\", \"Lower95% CI\", \"Upper95% CI\", \"Significance\"])\n",
      "LTermUnemp_DF.head(n=1)"
     ],
     "language": "python",
     "metadata": {},
     "outputs": [
      {
       "html": [
        "<div style=\"max-height:1000px;max-width:1500px;overflow:auto;\">\n",
        "<table border=\"1\" class=\"dataframe\">\n",
        "  <thead>\n",
        "    <tr style=\"text-align: right;\">\n",
        "      <th></th>\n",
        "      <th>ONS Code (old)</th>\n",
        "      <th>ONSCode</th>\n",
        "      <th>AreaName</th>\n",
        "      <th>ONSCluster</th>\n",
        "      <th>Period</th>\n",
        "      <th>AggregateNumerator</th>\n",
        "      <th>AggregateDenominator</th>\n",
        "      <th>SingleYearNumerator</th>\n",
        "      <th>SingleYearDenominator</th>\n",
        "      <th>IndicatorValue</th>\n",
        "      <th>Lower95% CI</th>\n",
        "      <th>Upper95% CI</th>\n",
        "      <th>Significance</th>\n",
        "    </tr>\n",
        "  </thead>\n",
        "  <tbody>\n",
        "    <tr>\n",
        "      <th>0</th>\n",
        "      <td> 00AB</td>\n",
        "      <td> E09000002</td>\n",
        "      <td> Barking and Dagenham LB</td>\n",
        "      <td> ONS1.2</td>\n",
        "      <td> 2012</td>\n",
        "      <td> n/a</td>\n",
        "      <td> n/a</td>\n",
        "      <td> 2040</td>\n",
        "      <td> 119166</td>\n",
        "      <td> 17.12247341</td>\n",
        "      <td> 16.38750784</td>\n",
        "      <td> 17.88190818</td>\n",
        "      <td> Significantly worse than England average</td>\n",
        "    </tr>\n",
        "  </tbody>\n",
        "</table>\n",
        "</div>"
       ],
       "metadata": {},
       "output_type": "pyout",
       "prompt_number": 20,
       "text": [
        "  ONS Code (old)    ONSCode                 AreaName ONSCluster Period  \\\n",
        "0           00AB  E09000002  Barking and Dagenham LB     ONS1.2   2012   \n",
        "\n",
        "  AggregateNumerator AggregateDenominator SingleYearNumerator  \\\n",
        "0                n/a                  n/a                2040   \n",
        "\n",
        "  SingleYearDenominator IndicatorValue  Lower95% CI  Upper95% CI  \\\n",
        "0                119166    17.12247341  16.38750784  17.88190818   \n",
        "\n",
        "                               Significance  \n",
        "0  Significantly worse than England average  "
       ]
      }
     ],
     "prompt_number": 20
    },
    {
     "cell_type": "code",
     "collapsed": false,
     "input": [
      "Subset1 = GCSE_DF[[\"ONSCode\", \"AreaName\", \"IndicatorValue\"]]\n",
      "Subset1[\"IndicatorValue2\"] = LTermUnemp_DF[\"IndicatorValue\"]\n",
      "Subset1[\"IndicatorValue3\"] = Drug_DF[\"IndicatorValue\"]\n",
      "\n",
      "DF_clean = Subset1\n",
      "DF_clean.head(n=1)"
     ],
     "language": "python",
     "metadata": {},
     "outputs": [
      {
       "html": [
        "<div style=\"max-height:1000px;max-width:1500px;overflow:auto;\">\n",
        "<table border=\"1\" class=\"dataframe\">\n",
        "  <thead>\n",
        "    <tr style=\"text-align: right;\">\n",
        "      <th></th>\n",
        "      <th>ONSCode</th>\n",
        "      <th>AreaName</th>\n",
        "      <th>IndicatorValue</th>\n",
        "      <th>IndicatorValue2</th>\n",
        "      <th>IndicatorValue3</th>\n",
        "    </tr>\n",
        "  </thead>\n",
        "  <tbody>\n",
        "    <tr>\n",
        "      <th>0</th>\n",
        "      <td> E09000002</td>\n",
        "      <td> Barking and Dagenham LB</td>\n",
        "      <td> 58.63874346</td>\n",
        "      <td> 17.12247341</td>\n",
        "      <td> 8.370696171</td>\n",
        "    </tr>\n",
        "  </tbody>\n",
        "</table>\n",
        "</div>"
       ],
       "metadata": {},
       "output_type": "pyout",
       "prompt_number": 25,
       "text": [
        "     ONSCode                 AreaName IndicatorValue IndicatorValue2  \\\n",
        "0  E09000002  Barking and Dagenham LB    58.63874346     17.12247341   \n",
        "\n",
        "  IndicatorValue3  \n",
        "0     8.370696171  "
       ]
      }
     ],
     "prompt_number": 25
    },
    {
     "cell_type": "code",
     "collapsed": false,
     "input": [
      "ARR_Indicators = DF_clean.as_matrix([\"IndicatorValue\", \"IndicatorValue2\", \"IndicatorValue3\"])\n",
      "Ind_1 = np.array((ARR_Indicators[:,0]), dtype=\"float\")\n",
      "Ind_2 = np.array((ARR_Indicators[:,1]), dtype=\"float\")\n",
      "Ind_3 = np.array((ARR_Indicators[:,2]), dtype=\"float\")"
     ],
     "language": "python",
     "metadata": {},
     "outputs": [],
     "prompt_number": 26
    },
    {
     "cell_type": "code",
     "collapsed": false,
     "input": [
      "sb.jointplot(Ind_1, Ind_2)"
     ],
     "language": "python",
     "metadata": {},
     "outputs": [
      {
       "metadata": {},
       "output_type": "pyout",
       "prompt_number": 35,
       "text": [
        "<seaborn.axisgrid.JointGrid at 0x17f3b438>"
       ]
      }
     ],
     "prompt_number": 35
    },
    {
     "cell_type": "code",
     "collapsed": false,
     "input": [
      "x = np.linspace(0, 3*np.pi, 500)\n",
      "plt.plot(x, np.sin(x**2))"
     ],
     "language": "python",
     "metadata": {},
     "outputs": [
      {
       "metadata": {},
       "output_type": "pyout",
       "prompt_number": 48,
       "text": [
        "[<matplotlib.lines.Line2D at 0x18a46860>]"
       ]
      }
     ],
     "prompt_number": 48
    },
    {
     "cell_type": "code",
     "collapsed": false,
     "input": [],
     "language": "python",
     "metadata": {},
     "outputs": [
      {
       "ename": "AttributeError",
       "evalue": "'numpy.ndarray' object has no attribute 'apply'",
       "output_type": "pyerr",
       "traceback": [
        "\u001b[1;31m---------------------------------------------------------------------------\u001b[0m\n\u001b[1;31mAttributeError\u001b[0m                            Traceback (most recent call last)",
        "\u001b[1;32m<ipython-input-49-ad0e5d3981bd>\u001b[0m in \u001b[0;36m<module>\u001b[1;34m()\u001b[0m\n\u001b[1;32m----> 1\u001b[1;33m \u001b[0mNormInd_GCSE\u001b[0m \u001b[1;33m=\u001b[0m \u001b[0mInd_1\u001b[0m\u001b[1;33m.\u001b[0m\u001b[0mapply\u001b[0m\u001b[1;33m(\u001b[0m\u001b[0mnp\u001b[0m\u001b[1;33m.\u001b[0m\u001b[0mlog\u001b[0m\u001b[1;33m)\u001b[0m\u001b[1;33m\u001b[0m\u001b[0m\n\u001b[0m",
        "\u001b[1;31mAttributeError\u001b[0m: 'numpy.ndarray' object has no attribute 'apply'"
       ]
      }
     ],
     "prompt_number": 49
    },
    {
     "cell_type": "code",
     "collapsed": false,
     "input": [],
     "language": "python",
     "metadata": {},
     "outputs": []
    }
   ],
   "metadata": {}
  }
 ]
}