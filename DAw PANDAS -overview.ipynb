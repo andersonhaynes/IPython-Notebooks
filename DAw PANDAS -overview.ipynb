{
 "metadata": {
  "name": "",
  "signature": "sha256:d7ee5dd2239ebf3e3ce7b3b24c1a33869d41ae5b08d5d61fad87085841028c59"
 },
 "nbformat": 3,
 "nbformat_minor": 0,
 "worksheets": [
  {
   "cells": [
    {
     "cell_type": "code",
     "collapsed": false,
     "input": [
      "%matplotlib inline\n",
      "import sys\n",
      "import pandas as pd\n",
      "import numpy as np\n",
      "import matplotlib.pyplot as plt\n",
      "print(sys.version)\n",
      "print(\"Pandas:\", pd.version.version)"
     ],
     "language": "python",
     "metadata": {},
     "outputs": [
      {
       "output_type": "stream",
       "stream": "stdout",
       "text": [
        "3.4.1 |Anaconda 2.0.1 (64-bit)| (default, Jun 11 2014, 17:27:11) [MSC v.1600 64 bit (AMD64)]\n",
        "Pandas: 0.14.0\n"
       ]
      }
     ],
     "prompt_number": 2
    },
    {
     "cell_type": "code",
     "collapsed": false,
     "input": [
      "np.random.seed(125)"
     ],
     "language": "python",
     "metadata": {},
     "outputs": [],
     "prompt_number": 3
    },
    {
     "cell_type": "code",
     "collapsed": false,
     "input": [
      "raw_np_range= np.random.random_integers(1,20,26)"
     ],
     "language": "python",
     "metadata": {},
     "outputs": [],
     "prompt_number": 4
    },
    {
     "cell_type": "code",
     "collapsed": false,
     "input": [
      "raw_np_range"
     ],
     "language": "python",
     "metadata": {},
     "outputs": [
      {
       "metadata": {},
       "output_type": "pyout",
       "prompt_number": 5,
       "text": [
        "array([ 3,  4, 15, 14, 12,  1,  6,  3, 14,  1, 19, 13,  1,  3, 10,  4, 13,\n",
        "       16, 13,  8, 10, 10, 18,  5,  5, 12])"
       ]
      }
     ],
     "prompt_number": 5
    },
    {
     "cell_type": "code",
     "collapsed": false,
     "input": [
      "data= pd.Series.from_array(raw_np_range)"
     ],
     "language": "python",
     "metadata": {},
     "outputs": [],
     "prompt_number": 6
    },
    {
     "cell_type": "code",
     "collapsed": false,
     "input": [
      "data"
     ],
     "language": "python",
     "metadata": {},
     "outputs": [
      {
       "metadata": {},
       "output_type": "pyout",
       "prompt_number": 7,
       "text": [
        "0      3\n",
        "1      4\n",
        "2     15\n",
        "3     14\n",
        "4     12\n",
        "5      1\n",
        "6      6\n",
        "7      3\n",
        "8     14\n",
        "9      1\n",
        "10    19\n",
        "11    13\n",
        "12     1\n",
        "13     3\n",
        "14    10\n",
        "15     4\n",
        "16    13\n",
        "17    16\n",
        "18    13\n",
        "19     8\n",
        "20    10\n",
        "21    10\n",
        "22    18\n",
        "23     5\n",
        "24     5\n",
        "25    12\n",
        "dtype: int32"
       ]
      }
     ],
     "prompt_number": 7
    },
    {
     "cell_type": "code",
     "collapsed": false,
     "input": [
      "pd.Series(('hello',1,1.0))"
     ],
     "language": "python",
     "metadata": {},
     "outputs": [
      {
       "metadata": {},
       "output_type": "pyout",
       "prompt_number": 9,
       "text": [
        "0    hello\n",
        "1        1\n",
        "2        1\n",
        "dtype: object"
       ]
      }
     ],
     "prompt_number": 9
    },
    {
     "cell_type": "code",
     "collapsed": false,
     "input": [
      "pd.Series([1.0, 2,3,4,5], index=list('abcde'))"
     ],
     "language": "python",
     "metadata": {},
     "outputs": [
      {
       "metadata": {},
       "output_type": "pyout",
       "prompt_number": 10,
       "text": [
        "a    1\n",
        "b    2\n",
        "c    3\n",
        "d    4\n",
        "e    5\n",
        "dtype: float64"
       ]
      }
     ],
     "prompt_number": 10
    },
    {
     "cell_type": "code",
     "collapsed": false,
     "input": [
      "pd.Series(raw_np_range, dtype=np.float16)"
     ],
     "language": "python",
     "metadata": {},
     "outputs": [
      {
       "metadata": {},
       "output_type": "pyout",
       "prompt_number": 12,
       "text": [
        "0      3\n",
        "1      4\n",
        "2     15\n",
        "3     14\n",
        "4     12\n",
        "5      1\n",
        "6      6\n",
        "7      3\n",
        "8     14\n",
        "9      1\n",
        "10    19\n",
        "11    13\n",
        "12     1\n",
        "13     3\n",
        "14    10\n",
        "15     4\n",
        "16    13\n",
        "17    16\n",
        "18    13\n",
        "19     8\n",
        "20    10\n",
        "21    10\n",
        "22    18\n",
        "23     5\n",
        "24     5\n",
        "25    12\n",
        "dtype: float16"
       ]
      }
     ],
     "prompt_number": 12
    },
    {
     "cell_type": "code",
     "collapsed": false,
     "input": [
      "data.head()"
     ],
     "language": "python",
     "metadata": {},
     "outputs": [
      {
       "metadata": {},
       "output_type": "pyout",
       "prompt_number": 13,
       "text": [
        "0     3\n",
        "1     4\n",
        "2    15\n",
        "3    14\n",
        "4    12\n",
        "dtype: int32"
       ]
      }
     ],
     "prompt_number": 13
    },
    {
     "cell_type": "code",
     "collapsed": false,
     "input": [
      "data.shape"
     ],
     "language": "python",
     "metadata": {},
     "outputs": [
      {
       "metadata": {},
       "output_type": "pyout",
       "prompt_number": 14,
       "text": [
        "(26,)"
       ]
      }
     ],
     "prompt_number": 14
    },
    {
     "cell_type": "code",
     "collapsed": false,
     "input": [
      "len(data)"
     ],
     "language": "python",
     "metadata": {},
     "outputs": [
      {
       "metadata": {},
       "output_type": "pyout",
       "prompt_number": 15,
       "text": [
        "26"
       ]
      }
     ],
     "prompt_number": 15
    },
    {
     "cell_type": "code",
     "collapsed": false,
     "input": [
      "data.head(6)"
     ],
     "language": "python",
     "metadata": {},
     "outputs": [
      {
       "metadata": {},
       "output_type": "pyout",
       "prompt_number": 16,
       "text": [
        "0     3\n",
        "1     4\n",
        "2    15\n",
        "3    14\n",
        "4    12\n",
        "5     1\n",
        "dtype: int32"
       ]
      }
     ],
     "prompt_number": 16
    },
    {
     "cell_type": "code",
     "collapsed": false,
     "input": [
      "data.tail()"
     ],
     "language": "python",
     "metadata": {},
     "outputs": [
      {
       "metadata": {},
       "output_type": "pyout",
       "prompt_number": 17,
       "text": [
        "21    10\n",
        "22    18\n",
        "23     5\n",
        "24     5\n",
        "25    12\n",
        "dtype: int32"
       ]
      }
     ],
     "prompt_number": 17
    },
    {
     "cell_type": "code",
     "collapsed": false,
     "input": [
      "data.tail(7)"
     ],
     "language": "python",
     "metadata": {},
     "outputs": [
      {
       "metadata": {},
       "output_type": "pyout",
       "prompt_number": 18,
       "text": [
        "19     8\n",
        "20    10\n",
        "21    10\n",
        "22    18\n",
        "23     5\n",
        "24     5\n",
        "25    12\n",
        "dtype: int32"
       ]
      }
     ],
     "prompt_number": 18
    },
    {
     "cell_type": "code",
     "collapsed": false,
     "input": [
      "data.mean()"
     ],
     "language": "python",
     "metadata": {},
     "outputs": [
      {
       "metadata": {},
       "output_type": "pyout",
       "prompt_number": 19,
       "text": [
        "8.9615384615384617"
       ]
      }
     ],
     "prompt_number": 19
    },
    {
     "cell_type": "code",
     "collapsed": false,
     "input": [
      "data.median()"
     ],
     "language": "python",
     "metadata": {},
     "outputs": [
      {
       "metadata": {},
       "output_type": "pyout",
       "prompt_number": 20,
       "text": [
        "10.0"
       ]
      }
     ],
     "prompt_number": 20
    },
    {
     "cell_type": "code",
     "collapsed": false,
     "input": [
      "data.tail()"
     ],
     "language": "python",
     "metadata": {},
     "outputs": [
      {
       "metadata": {},
       "output_type": "pyout",
       "prompt_number": 21,
       "text": [
        "21    10\n",
        "22    18\n",
        "23     5\n",
        "24     5\n",
        "25    12\n",
        "dtype: int32"
       ]
      }
     ],
     "prompt_number": 21
    },
    {
     "cell_type": "code",
     "collapsed": false,
     "input": [
      "data.count()"
     ],
     "language": "python",
     "metadata": {},
     "outputs": [
      {
       "metadata": {},
       "output_type": "pyout",
       "prompt_number": 22,
       "text": [
        "26"
       ]
      }
     ],
     "prompt_number": 22
    },
    {
     "cell_type": "code",
     "collapsed": false,
     "input": [
      "data.unique()"
     ],
     "language": "python",
     "metadata": {},
     "outputs": [
      {
       "metadata": {},
       "output_type": "pyout",
       "prompt_number": 23,
       "text": [
        "array([ 3,  4, 15, 14, 12,  1,  6, 19, 13, 10, 16,  8, 18,  5], dtype=int64)"
       ]
      }
     ],
     "prompt_number": 23
    },
    {
     "cell_type": "code",
     "collapsed": false,
     "input": [
      "data.value_counts()"
     ],
     "language": "python",
     "metadata": {},
     "outputs": [
      {
       "metadata": {},
       "output_type": "pyout",
       "prompt_number": 24,
       "text": [
        "13    3\n",
        "10    3\n",
        "3     3\n",
        "1     3\n",
        "14    2\n",
        "12    2\n",
        "5     2\n",
        "4     2\n",
        "19    1\n",
        "18    1\n",
        "16    1\n",
        "15    1\n",
        "8     1\n",
        "6     1\n",
        "dtype: int64"
       ]
      }
     ],
     "prompt_number": 24
    },
    {
     "cell_type": "code",
     "collapsed": false,
     "input": [
      "data.describe()"
     ],
     "language": "python",
     "metadata": {},
     "outputs": [
      {
       "metadata": {},
       "output_type": "pyout",
       "prompt_number": 25,
       "text": [
        "count    26.000000\n",
        "mean      8.961538\n",
        "std       5.574806\n",
        "min       1.000000\n",
        "25%       4.000000\n",
        "50%      10.000000\n",
        "75%      13.000000\n",
        "max      19.000000\n",
        "dtype: float64"
       ]
      }
     ],
     "prompt_number": 25
    },
    {
     "cell_type": "code",
     "collapsed": false,
     "input": [
      "data.hist()"
     ],
     "language": "python",
     "metadata": {},
     "outputs": [
      {
       "metadata": {},
       "output_type": "pyout",
       "prompt_number": 26,
       "text": [
        "<matplotlib.axes.AxesSubplot at 0x56aa240>"
       ]
      },
      {
       "metadata": {},
       "output_type": "display_data",
       "png": "[encoded data removed]",
       "text": [
        "<matplotlib.figure.Figure at 0x568a9b0>"
       ]
      }
     ],
     "prompt_number": 26
    },
    {
     "cell_type": "code",
     "collapsed": false,
     "input": [],
     "language": "python",
     "metadata": {},
     "outputs": []
    }
   ],
   "metadata": {}
  }
 ]
}