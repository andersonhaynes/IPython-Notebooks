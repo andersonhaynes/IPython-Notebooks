{
 "metadata": {
  "name": "",
  "signature": "sha256:82a0b0a6dc05991c4a8757ba97bd1cf4ffc52f912795182c1bc1ce4a7ab7d738"
 },
 "nbformat": 3,
 "nbformat_minor": 0,
 "worksheets": []
}