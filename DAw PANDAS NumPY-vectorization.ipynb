{
 "metadata": {
  "name": "",
  "signature": "sha256:dfd62e7bee0ab215f4f2d143e162c8816d43fca5950540c0db979c0d6ed08090"
 },
 "nbformat": 3,
 "nbformat_minor": 0,
 "worksheets": [
  {
   "cells": [
    {
     "cell_type": "code",
     "collapsed": false,
     "input": [
      "import sys\n",
      "import numpy as np\n",
      "print(sys.version)\n",
      "print(np.version)"
     ],
     "language": "python",
     "metadata": {},
     "outputs": [
      {
       "output_type": "stream",
       "stream": "stdout",
       "text": [
        "3.4.1 |Anaconda 2.0.1 (64-bit)| (default, Jun 11 2014, 17:27:11) [MSC v.1600 64 bit (AMD64)]\n",
        "<module 'numpy.version' from 'C:\\\\Users\\\\andersonhaynes\\\\Anaconda3\\\\lib\\\\site-packages\\\\numpy\\\\version.py'>\n"
       ]
      }
     ],
     "prompt_number": 1
    },
    {
     "cell_type": "code",
     "collapsed": false,
     "input": [
      "npa = np.random.random_integers(0,50,20)\n",
      "npa"
     ],
     "language": "python",
     "metadata": {},
     "outputs": [
      {
       "metadata": {},
       "output_type": "pyout",
       "prompt_number": 3,
       "text": [
        "array([41, 10,  8, 12, 33, 21, 50,  5,  1, 18, 27, 50,  7, 38, 38, 41, 22,\n",
        "       29, 29,  6])"
       ]
      }
     ],
     "prompt_number": 3
    },
    {
     "cell_type": "code",
     "collapsed": false,
     "input": [
      "[x*2 for x in npa]"
     ],
     "language": "python",
     "metadata": {},
     "outputs": [
      {
       "metadata": {},
       "output_type": "pyout",
       "prompt_number": 4,
       "text": [
        "[82,\n",
        " 20,\n",
        " 16,\n",
        " 24,\n",
        " 66,\n",
        " 42,\n",
        " 100,\n",
        " 10,\n",
        " 2,\n",
        " 36,\n",
        " 54,\n",
        " 100,\n",
        " 14,\n",
        " 76,\n",
        " 76,\n",
        " 82,\n",
        " 44,\n",
        " 58,\n",
        " 58,\n",
        " 12]"
       ]
      }
     ],
     "prompt_number": 4
    },
    {
     "cell_type": "code",
     "collapsed": false,
     "input": [
      "npa <5"
     ],
     "language": "python",
     "metadata": {},
     "outputs": [
      {
       "metadata": {},
       "output_type": "pyout",
       "prompt_number": 5,
       "text": [
        "array([False, False, False, False, False, False, False, False,  True,\n",
        "       False, False, False, False, False, False, False, False, False,\n",
        "       False, False], dtype=bool)"
       ]
      }
     ],
     "prompt_number": 5
    },
    {
     "cell_type": "code",
     "collapsed": false,
     "input": [
      "npa*2"
     ],
     "language": "python",
     "metadata": {},
     "outputs": [
      {
       "metadata": {},
       "output_type": "pyout",
       "prompt_number": 6,
       "text": [
        "array([ 82,  20,  16,  24,  66,  42, 100,  10,   2,  36,  54, 100,  14,\n",
        "        76,  76,  82,  44,  58,  58,  12])"
       ]
      }
     ],
     "prompt_number": 6
    },
    {
     "cell_type": "code",
     "collapsed": false,
     "input": [
      "npa**3"
     ],
     "language": "python",
     "metadata": {},
     "outputs": [
      {
       "metadata": {},
       "output_type": "pyout",
       "prompt_number": 7,
       "text": [
        "array([ 68921,   1000,    512,   1728,  35937,   9261, 125000,    125,\n",
        "            1,   5832,  19683, 125000,    343,  54872,  54872,  68921,\n",
        "        10648,  24389,  24389,    216], dtype=int32)"
       ]
      }
     ],
     "prompt_number": 7
    },
    {
     "cell_type": "code",
     "collapsed": false,
     "input": [
      "def new_func(numb):\n",
      "    if numb < 10:\n",
      "        return numb**3\n",
      "    else:\n",
      "        return numb**2"
     ],
     "language": "python",
     "metadata": {},
     "outputs": [],
     "prompt_number": 9
    },
    {
     "cell_type": "code",
     "collapsed": false,
     "input": [
      "vnew_func= np.vectorize(new_func)"
     ],
     "language": "python",
     "metadata": {},
     "outputs": [],
     "prompt_number": 10
    },
    {
     "cell_type": "code",
     "collapsed": false,
     "input": [
      "vnew_func(npa)"
     ],
     "language": "python",
     "metadata": {},
     "outputs": [
      {
       "metadata": {},
       "output_type": "pyout",
       "prompt_number": 11,
       "text": [
        "array([1681,  100,  512,  144, 1089,  441, 2500,  125,    1,  324,  729,\n",
        "       2500,  343, 1444, 1444, 1681,  484,  841,  841,  216])"
       ]
      }
     ],
     "prompt_number": 11
    },
    {
     "cell_type": "code",
     "collapsed": false,
     "input": [
      "[new_func(x) for x in npa]"
     ],
     "language": "python",
     "metadata": {},
     "outputs": [
      {
       "metadata": {},
       "output_type": "pyout",
       "prompt_number": 14,
       "text": [
        "[1681,\n",
        " 100,\n",
        " 512,\n",
        " 144,\n",
        " 1089,\n",
        " 441,\n",
        " 2500,\n",
        " 125,\n",
        " 1,\n",
        " 324,\n",
        " 729,\n",
        " 2500,\n",
        " 343,\n",
        " 1444,\n",
        " 1444,\n",
        " 1681,\n",
        " 484,\n",
        " 841,\n",
        " 841,\n",
        " 216]"
       ]
      }
     ],
     "prompt_number": 14
    },
    {
     "cell_type": "code",
     "collapsed": false,
     "input": [
      "npa2= np.random.random_integers(0,100,20*1000)"
     ],
     "language": "python",
     "metadata": {},
     "outputs": [],
     "prompt_number": 15
    },
    {
     "cell_type": "code",
     "collapsed": false,
     "input": [
      "%timeit [new_func(x) for x in npa2]"
     ],
     "language": "python",
     "metadata": {},
     "outputs": [
      {
       "output_type": "stream",
       "stream": "stdout",
       "text": [
        "10 loops, best of 3: 54.2 ms per loop\n"
       ]
      }
     ],
     "prompt_number": 16
    },
    {
     "cell_type": "code",
     "collapsed": false,
     "input": [
      "%timeit vnew_func(npa2)"
     ],
     "language": "python",
     "metadata": {},
     "outputs": [
      {
       "output_type": "stream",
       "stream": "stdout",
       "text": [
        "100 loops, best of 3: 15.6 ms per loop\n"
       ]
      }
     ],
     "prompt_number": 17
    },
    {
     "cell_type": "code",
     "collapsed": false,
     "input": [],
     "language": "python",
     "metadata": {},
     "outputs": []
    }
   ],
   "metadata": {}
  }
 ]
}