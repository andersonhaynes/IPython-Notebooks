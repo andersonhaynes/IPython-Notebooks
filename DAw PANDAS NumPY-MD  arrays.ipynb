{
 "metadata": {
  "name": "",
  "signature": "sha256:b70c81528233878b86e74b9163211d866154439e439b2b2876524420b9286a6e"
 },
 "nbformat": 3,
 "nbformat_minor": 0,
 "worksheets": [
  {
   "cells": [
    {
     "cell_type": "code",
     "collapsed": false,
     "input": [
      "import sys\n",
      "import numpy as np\n",
      "print(sys.version)\n",
      "print(np.version)"
     ],
     "language": "python",
     "metadata": {},
     "outputs": [
      {
       "output_type": "stream",
       "stream": "stdout",
       "text": [
        "3.4.1 |Anaconda 2.0.1 (64-bit)| (default, Jun 11 2014, 17:27:11) [MSC v.1600 64 bit (AMD64)]\n",
        "<module 'numpy.version' from 'C:\\\\Users\\\\andersonhaynes\\\\Anaconda3\\\\lib\\\\site-packages\\\\numpy\\\\version.py'>\n"
       ]
      }
     ],
     "prompt_number": 1
    },
    {
     "cell_type": "code",
     "collapsed": false,
     "input": [
      "npa = np.arange(25)\n",
      "npa"
     ],
     "language": "python",
     "metadata": {},
     "outputs": [
      {
       "metadata": {},
       "output_type": "pyout",
       "prompt_number": 2,
       "text": [
        "array([ 0,  1,  2,  3,  4,  5,  6,  7,  8,  9, 10, 11, 12, 13, 14, 15, 16,\n",
        "       17, 18, 19, 20, 21, 22, 23, 24])"
       ]
      }
     ],
     "prompt_number": 2
    },
    {
     "cell_type": "code",
     "collapsed": false,
     "input": [
      "npa.reshape(5,5)"
     ],
     "language": "python",
     "metadata": {},
     "outputs": [
      {
       "metadata": {},
       "output_type": "pyout",
       "prompt_number": 3,
       "text": [
        "array([[ 0,  1,  2,  3,  4],\n",
        "       [ 5,  6,  7,  8,  9],\n",
        "       [10, 11, 12, 13, 14],\n",
        "       [15, 16, 17, 18, 19],\n",
        "       [20, 21, 22, 23, 24]])"
       ]
      }
     ],
     "prompt_number": 3
    },
    {
     "cell_type": "code",
     "collapsed": false,
     "input": [
      "np.zeros((5,5))"
     ],
     "language": "python",
     "metadata": {},
     "outputs": [
      {
       "metadata": {},
       "output_type": "pyout",
       "prompt_number": 6,
       "text": [
        "array([[ 0.,  0.,  0.,  0.,  0.],\n",
        "       [ 0.,  0.,  0.,  0.,  0.],\n",
        "       [ 0.,  0.,  0.,  0.,  0.],\n",
        "       [ 0.,  0.,  0.,  0.,  0.],\n",
        "       [ 0.,  0.,  0.,  0.,  0.]])"
       ]
      }
     ],
     "prompt_number": 6
    },
    {
     "cell_type": "code",
     "collapsed": false,
     "input": [
      "npa2= np.zeros((5,5))"
     ],
     "language": "python",
     "metadata": {},
     "outputs": [],
     "prompt_number": 7
    },
    {
     "cell_type": "code",
     "collapsed": false,
     "input": [
      "npa2"
     ],
     "language": "python",
     "metadata": {},
     "outputs": [
      {
       "metadata": {},
       "output_type": "pyout",
       "prompt_number": 8,
       "text": [
        "array([[ 0.,  0.,  0.,  0.,  0.],\n",
        "       [ 0.,  0.,  0.,  0.,  0.],\n",
        "       [ 0.,  0.,  0.,  0.,  0.],\n",
        "       [ 0.,  0.,  0.,  0.,  0.],\n",
        "       [ 0.,  0.,  0.,  0.,  0.]])"
       ]
      }
     ],
     "prompt_number": 8
    },
    {
     "cell_type": "code",
     "collapsed": false,
     "input": [
      "npa2.size"
     ],
     "language": "python",
     "metadata": {},
     "outputs": [
      {
       "metadata": {},
       "output_type": "pyout",
       "prompt_number": 9,
       "text": [
        "25"
       ]
      }
     ],
     "prompt_number": 9
    },
    {
     "cell_type": "code",
     "collapsed": false,
     "input": [
      "npa2.shape"
     ],
     "language": "python",
     "metadata": {},
     "outputs": [
      {
       "metadata": {},
       "output_type": "pyout",
       "prompt_number": 11,
       "text": [
        "(5, 5)"
       ]
      }
     ],
     "prompt_number": 11
    },
    {
     "cell_type": "code",
     "collapsed": false,
     "input": [
      "npa2.ndim"
     ],
     "language": "python",
     "metadata": {},
     "outputs": [
      {
       "metadata": {},
       "output_type": "pyout",
       "prompt_number": 12,
       "text": [
        "2"
       ]
      }
     ],
     "prompt_number": 12
    },
    {
     "cell_type": "code",
     "collapsed": false,
     "input": [
      "np.arange(8).reshape(2,2,2)"
     ],
     "language": "python",
     "metadata": {},
     "outputs": [
      {
       "metadata": {},
       "output_type": "pyout",
       "prompt_number": 14,
       "text": [
        "array([[[0, 1],\n",
        "        [2, 3]],\n",
        "\n",
        "       [[4, 5],\n",
        "        [6, 7]]])"
       ]
      }
     ],
     "prompt_number": 14
    },
    {
     "cell_type": "code",
     "collapsed": false,
     "input": [
      "np.zeros((4,4,4,4))"
     ],
     "language": "python",
     "metadata": {},
     "outputs": [
      {
       "metadata": {},
       "output_type": "pyout",
       "prompt_number": 16,
       "text": [
        "array([[[[ 0.,  0.,  0.,  0.],\n",
        "         [ 0.,  0.,  0.,  0.],\n",
        "         [ 0.,  0.,  0.,  0.],\n",
        "         [ 0.,  0.,  0.,  0.]],\n",
        "\n",
        "        [[ 0.,  0.,  0.,  0.],\n",
        "         [ 0.,  0.,  0.,  0.],\n",
        "         [ 0.,  0.,  0.,  0.],\n",
        "         [ 0.,  0.,  0.,  0.]],\n",
        "\n",
        "        [[ 0.,  0.,  0.,  0.],\n",
        "         [ 0.,  0.,  0.,  0.],\n",
        "         [ 0.,  0.,  0.,  0.],\n",
        "         [ 0.,  0.,  0.,  0.]],\n",
        "\n",
        "        [[ 0.,  0.,  0.,  0.],\n",
        "         [ 0.,  0.,  0.,  0.],\n",
        "         [ 0.,  0.,  0.,  0.],\n",
        "         [ 0.,  0.,  0.,  0.]]],\n",
        "\n",
        "\n",
        "       [[[ 0.,  0.,  0.,  0.],\n",
        "         [ 0.,  0.,  0.,  0.],\n",
        "         [ 0.,  0.,  0.,  0.],\n",
        "         [ 0.,  0.,  0.,  0.]],\n",
        "\n",
        "        [[ 0.,  0.,  0.,  0.],\n",
        "         [ 0.,  0.,  0.,  0.],\n",
        "         [ 0.,  0.,  0.,  0.],\n",
        "         [ 0.,  0.,  0.,  0.]],\n",
        "\n",
        "        [[ 0.,  0.,  0.,  0.],\n",
        "         [ 0.,  0.,  0.,  0.],\n",
        "         [ 0.,  0.,  0.,  0.],\n",
        "         [ 0.,  0.,  0.,  0.]],\n",
        "\n",
        "        [[ 0.,  0.,  0.,  0.],\n",
        "         [ 0.,  0.,  0.,  0.],\n",
        "         [ 0.,  0.,  0.,  0.],\n",
        "         [ 0.,  0.,  0.,  0.]]],\n",
        "\n",
        "\n",
        "       [[[ 0.,  0.,  0.,  0.],\n",
        "         [ 0.,  0.,  0.,  0.],\n",
        "         [ 0.,  0.,  0.,  0.],\n",
        "         [ 0.,  0.,  0.,  0.]],\n",
        "\n",
        "        [[ 0.,  0.,  0.,  0.],\n",
        "         [ 0.,  0.,  0.,  0.],\n",
        "         [ 0.,  0.,  0.,  0.],\n",
        "         [ 0.,  0.,  0.,  0.]],\n",
        "\n",
        "        [[ 0.,  0.,  0.,  0.],\n",
        "         [ 0.,  0.,  0.,  0.],\n",
        "         [ 0.,  0.,  0.,  0.],\n",
        "         [ 0.,  0.,  0.,  0.]],\n",
        "\n",
        "        [[ 0.,  0.,  0.,  0.],\n",
        "         [ 0.,  0.,  0.,  0.],\n",
        "         [ 0.,  0.,  0.,  0.],\n",
        "         [ 0.,  0.,  0.,  0.]]],\n",
        "\n",
        "\n",
        "       [[[ 0.,  0.,  0.,  0.],\n",
        "         [ 0.,  0.,  0.,  0.],\n",
        "         [ 0.,  0.,  0.,  0.],\n",
        "         [ 0.,  0.,  0.,  0.]],\n",
        "\n",
        "        [[ 0.,  0.,  0.,  0.],\n",
        "         [ 0.,  0.,  0.,  0.],\n",
        "         [ 0.,  0.,  0.,  0.],\n",
        "         [ 0.,  0.,  0.,  0.]],\n",
        "\n",
        "        [[ 0.,  0.,  0.,  0.],\n",
        "         [ 0.,  0.,  0.,  0.],\n",
        "         [ 0.,  0.,  0.,  0.],\n",
        "         [ 0.,  0.,  0.,  0.]],\n",
        "\n",
        "        [[ 0.,  0.,  0.,  0.],\n",
        "         [ 0.,  0.,  0.,  0.],\n",
        "         [ 0.,  0.,  0.,  0.],\n",
        "         [ 0.,  0.,  0.,  0.]]]])"
       ]
      }
     ],
     "prompt_number": 16
    },
    {
     "cell_type": "code",
     "collapsed": false,
     "input": [
      "np.arange(16).reshape(2,2,2,2)"
     ],
     "language": "python",
     "metadata": {},
     "outputs": [
      {
       "metadata": {},
       "output_type": "pyout",
       "prompt_number": 17,
       "text": [
        "array([[[[ 0,  1],\n",
        "         [ 2,  3]],\n",
        "\n",
        "        [[ 4,  5],\n",
        "         [ 6,  7]]],\n",
        "\n",
        "\n",
        "       [[[ 8,  9],\n",
        "         [10, 11]],\n",
        "\n",
        "        [[12, 13],\n",
        "         [14, 15]]]])"
       ]
      }
     ],
     "prompt_number": 17
    },
    {
     "cell_type": "code",
     "collapsed": false,
     "input": [
      "np.random.seed(10)\n",
      "np.random.random_integers(1,10,25)"
     ],
     "language": "python",
     "metadata": {},
     "outputs": [
      {
       "metadata": {},
       "output_type": "pyout",
       "prompt_number": 19,
       "text": [
        "array([10,  5,  1,  2, 10,  1,  2,  9, 10,  1,  9,  7,  5,  4,  1,  5,  7,\n",
        "        9,  2,  9,  5,  2,  4,  7,  6])"
       ]
      }
     ],
     "prompt_number": 19
    },
    {
     "cell_type": "code",
     "collapsed": false,
     "input": [
      "np.random.seed(10)\n",
      "npa2= np.random.random_integers(1,10,25).reshape(5,5)\n",
      "npa2"
     ],
     "language": "python",
     "metadata": {},
     "outputs": [
      {
       "metadata": {},
       "output_type": "pyout",
       "prompt_number": 21,
       "text": [
        "array([[10,  5,  1,  2, 10],\n",
        "       [ 1,  2,  9, 10,  1],\n",
        "       [ 9,  7,  5,  4,  1],\n",
        "       [ 5,  7,  9,  2,  9],\n",
        "       [ 5,  2,  4,  7,  6]])"
       ]
      }
     ],
     "prompt_number": 21
    },
    {
     "cell_type": "code",
     "collapsed": false,
     "input": [
      "npa3= np.random.random_integers(1,10,25).reshape(5,5)\n",
      "npa3"
     ],
     "language": "python",
     "metadata": {},
     "outputs": [
      {
       "metadata": {},
       "output_type": "pyout",
       "prompt_number": 23,
       "text": [
        "array([[ 5,  8,  9,  9,  3],\n",
        "       [ 7,  3,  9,  9,  7],\n",
        "       [ 7,  6,  7,  1,  1],\n",
        "       [ 7, 10,  2,  9, 10],\n",
        "       [ 2,  3,  9, 10, 10]])"
       ]
      }
     ],
     "prompt_number": 23
    },
    {
     "cell_type": "code",
     "collapsed": false,
     "input": [
      "(npa2 > npa3).sum()"
     ],
     "language": "python",
     "metadata": {},
     "outputs": [
      {
       "metadata": {},
       "output_type": "pyout",
       "prompt_number": 24,
       "text": [
        "8"
       ]
      }
     ],
     "prompt_number": 24
    },
    {
     "cell_type": "code",
     "collapsed": false,
     "input": [
      "(npa2 > npa3).sum(axis=0)"
     ],
     "language": "python",
     "metadata": {},
     "outputs": [
      {
       "metadata": {},
       "output_type": "pyout",
       "prompt_number": 25,
       "text": [
        "array([3, 1, 1, 2, 1])"
       ]
      }
     ],
     "prompt_number": 25
    },
    {
     "cell_type": "code",
     "collapsed": false,
     "input": [
      "(npa2 > npa3).sum(axis=1)"
     ],
     "language": "python",
     "metadata": {},
     "outputs": [
      {
       "metadata": {},
       "output_type": "pyout",
       "prompt_number": 26,
       "text": [
        "array([2, 1, 3, 1, 1])"
       ]
      }
     ],
     "prompt_number": 26
    },
    {
     "cell_type": "code",
     "collapsed": false,
     "input": [
      "npa2.transpose()"
     ],
     "language": "python",
     "metadata": {},
     "outputs": [
      {
       "metadata": {},
       "output_type": "pyout",
       "prompt_number": 27,
       "text": [
        "array([[10,  1,  9,  5,  5],\n",
        "       [ 5,  2,  7,  7,  2],\n",
        "       [ 1,  9,  5,  9,  4],\n",
        "       [ 2, 10,  4,  2,  7],\n",
        "       [10,  1,  1,  9,  6]])"
       ]
      }
     ],
     "prompt_number": 27
    },
    {
     "cell_type": "code",
     "collapsed": false,
     "input": [
      "npa2"
     ],
     "language": "python",
     "metadata": {},
     "outputs": [
      {
       "metadata": {},
       "output_type": "pyout",
       "prompt_number": 28,
       "text": [
        "array([[10,  5,  1,  2, 10],\n",
        "       [ 1,  2,  9, 10,  1],\n",
        "       [ 9,  7,  5,  4,  1],\n",
        "       [ 5,  7,  9,  2,  9],\n",
        "       [ 5,  2,  4,  7,  6]])"
       ]
      }
     ],
     "prompt_number": 28
    },
    {
     "cell_type": "code",
     "collapsed": false,
     "input": [
      "npa2.T"
     ],
     "language": "python",
     "metadata": {},
     "outputs": [
      {
       "metadata": {},
       "output_type": "pyout",
       "prompt_number": 29,
       "text": [
        "array([[10,  1,  9,  5,  5],\n",
        "       [ 5,  2,  7,  7,  2],\n",
        "       [ 1,  9,  5,  9,  4],\n",
        "       [ 2, 10,  4,  2,  7],\n",
        "       [10,  1,  1,  9,  6]])"
       ]
      }
     ],
     "prompt_number": 29
    },
    {
     "cell_type": "code",
     "collapsed": false,
     "input": [
      "npa2.T*npa2"
     ],
     "language": "python",
     "metadata": {},
     "outputs": [
      {
       "metadata": {},
       "output_type": "pyout",
       "prompt_number": 30,
       "text": [
        "array([[100,   5,   9,  10,  50],\n",
        "       [  5,   4,  63,  70,   2],\n",
        "       [  9,  63,  25,  36,   4],\n",
        "       [ 10,  70,  36,   4,  63],\n",
        "       [ 50,   2,   4,  63,  36]])"
       ]
      }
     ],
     "prompt_number": 30
    },
    {
     "cell_type": "code",
     "collapsed": false,
     "input": [
      "npa2.flatten()"
     ],
     "language": "python",
     "metadata": {},
     "outputs": [
      {
       "metadata": {},
       "output_type": "pyout",
       "prompt_number": 32,
       "text": [
        "array([10,  5,  1,  2, 10,  1,  2,  9, 10,  1,  9,  7,  5,  4,  1,  5,  7,\n",
        "        9,  2,  9,  5,  2,  4,  7,  6])"
       ]
      }
     ],
     "prompt_number": 32
    },
    {
     "cell_type": "code",
     "collapsed": false,
     "input": [
      "r= npa2.ravel()\n",
      "r"
     ],
     "language": "python",
     "metadata": {},
     "outputs": [
      {
       "metadata": {},
       "output_type": "pyout",
       "prompt_number": 34,
       "text": [
        "array([10,  5,  1,  2, 10,  1,  2,  9, 10,  1,  9,  7,  5,  4,  1,  5,  7,\n",
        "        9,  2,  9,  5,  2,  4,  7,  6])"
       ]
      }
     ],
     "prompt_number": 34
    },
    {
     "cell_type": "code",
     "collapsed": false,
     "input": [],
     "language": "python",
     "metadata": {},
     "outputs": []
    }
   ],
   "metadata": {}
  }
 ]
}