{
 "metadata": {
  "name": "",
  "signature": "sha256:8134b10901c331ccdc7ee8eedd68a5684794f853a2e8b92926df6256f0e8ba7a"
 },
 "nbformat": 3,
 "nbformat_minor": 0,
 "worksheets": [
  {
   "cells": [
    {
     "cell_type": "code",
     "collapsed": false,
     "input": [
      "import os as os\n",
      "import pandas as pd\n",
      "import numpy as np"
     ],
     "language": "python",
     "metadata": {},
     "outputs": [],
     "prompt_number": 1
    },
    {
     "cell_type": "code",
     "collapsed": false,
     "input": [
      "os.chdir(\"c:/Users/andersonhaynes/Documents/word2vec_movies/labeledTrainData\")"
     ],
     "language": "python",
     "metadata": {},
     "outputs": [],
     "prompt_number": 2
    },
    {
     "cell_type": "code",
     "collapsed": false,
     "input": [
      "os.getcwd()"
     ],
     "language": "python",
     "metadata": {},
     "outputs": [
      {
       "metadata": {},
       "output_type": "pyout",
       "prompt_number": 3,
       "text": [
        "'c:\\\\Users\\\\andersonhaynes\\\\Documents\\\\word2vec_movies\\\\labeledTrainData'"
       ]
      }
     ],
     "prompt_number": 3
    },
    {
     "cell_type": "code",
     "collapsed": false,
     "input": [
      "train = pd.read_csv( \"labeledTrainData.tsv\", header=0, delimiter=\"\\t\", quoting=3 )\n",
      "\n",
      "\n",
      "# In[8]:\n",
      "\n",
      "train.head()\n"
     ],
     "language": "python",
     "metadata": {},
     "outputs": [
      {
       "html": [
        "<div style=\"max-height:1000px;max-width:1500px;overflow:auto;\">\n",
        "<table border=\"1\" class=\"dataframe\">\n",
        "  <thead>\n",
        "    <tr style=\"text-align: right;\">\n",
        "      <th></th>\n",
        "      <th>id</th>\n",
        "      <th>sentiment</th>\n",
        "      <th>review</th>\n",
        "    </tr>\n",
        "  </thead>\n",
        "  <tbody>\n",
        "    <tr>\n",
        "      <th>0</th>\n",
        "      <td> \"5814_8\"</td>\n",
        "      <td> 1</td>\n",
        "      <td> \"With all this stuff going down at the moment ...</td>\n",
        "    </tr>\n",
        "    <tr>\n",
        "      <th>1</th>\n",
        "      <td> \"2381_9\"</td>\n",
        "      <td> 1</td>\n",
        "      <td> \"\\\"The Classic War of the Worlds\\\" by Timothy ...</td>\n",
        "    </tr>\n",
        "    <tr>\n",
        "      <th>2</th>\n",
        "      <td> \"7759_3\"</td>\n",
        "      <td> 0</td>\n",
        "      <td> \"The film starts with a manager (Nicholas Bell...</td>\n",
        "    </tr>\n",
        "    <tr>\n",
        "      <th>3</th>\n",
        "      <td> \"3630_4\"</td>\n",
        "      <td> 0</td>\n",
        "      <td> \"It must be assumed that those who praised thi...</td>\n",
        "    </tr>\n",
        "    <tr>\n",
        "      <th>4</th>\n",
        "      <td> \"9495_8\"</td>\n",
        "      <td> 1</td>\n",
        "      <td> \"Superbly trashy and wondrously unpretentious ...</td>\n",
        "    </tr>\n",
        "  </tbody>\n",
        "</table>\n",
        "</div>"
       ],
       "metadata": {},
       "output_type": "pyout",
       "prompt_number": 4,
       "text": [
        "         id  sentiment                                             review\n",
        "0  \"5814_8\"          1  \"With all this stuff going down at the moment ...\n",
        "1  \"2381_9\"          1  \"\\\"The Classic War of the Worlds\\\" by Timothy ...\n",
        "2  \"7759_3\"          0  \"The film starts with a manager (Nicholas Bell...\n",
        "3  \"3630_4\"          0  \"It must be assumed that those who praised thi...\n",
        "4  \"9495_8\"          1  \"Superbly trashy and wondrously unpretentious ..."
       ]
      }
     ],
     "prompt_number": 4
    },
    {
     "cell_type": "code",
     "collapsed": false,
     "input": [
      "test = pd.read_csv( \"testData.tsv\", header=0, delimiter=\"\\t\", quoting=3 )\n",
      "\n",
      "\n",
      "# In[10]:\n",
      "\n",
      "test.head()"
     ],
     "language": "python",
     "metadata": {},
     "outputs": [
      {
       "html": [
        "<div style=\"max-height:1000px;max-width:1500px;overflow:auto;\">\n",
        "<table border=\"1\" class=\"dataframe\">\n",
        "  <thead>\n",
        "    <tr style=\"text-align: right;\">\n",
        "      <th></th>\n",
        "      <th>id</th>\n",
        "      <th>review</th>\n",
        "    </tr>\n",
        "  </thead>\n",
        "  <tbody>\n",
        "    <tr>\n",
        "      <th>0</th>\n",
        "      <td> \"12311_10\"</td>\n",
        "      <td> \"Naturally in a film who's main themes are of ...</td>\n",
        "    </tr>\n",
        "    <tr>\n",
        "      <th>1</th>\n",
        "      <td>   \"8348_2\"</td>\n",
        "      <td> \"This movie is a disaster within a disaster fi...</td>\n",
        "    </tr>\n",
        "    <tr>\n",
        "      <th>2</th>\n",
        "      <td>   \"5828_4\"</td>\n",
        "      <td> \"All in all, this is a movie for kids. We saw ...</td>\n",
        "    </tr>\n",
        "    <tr>\n",
        "      <th>3</th>\n",
        "      <td>   \"7186_2\"</td>\n",
        "      <td> \"Afraid of the Dark left me with the impressio...</td>\n",
        "    </tr>\n",
        "    <tr>\n",
        "      <th>4</th>\n",
        "      <td>  \"12128_7\"</td>\n",
        "      <td> \"A very accurate depiction of small time mob l...</td>\n",
        "    </tr>\n",
        "  </tbody>\n",
        "</table>\n",
        "</div>"
       ],
       "metadata": {},
       "output_type": "pyout",
       "prompt_number": 5,
       "text": [
        "           id                                             review\n",
        "0  \"12311_10\"  \"Naturally in a film who's main themes are of ...\n",
        "1    \"8348_2\"  \"This movie is a disaster within a disaster fi...\n",
        "2    \"5828_4\"  \"All in all, this is a movie for kids. We saw ...\n",
        "3    \"7186_2\"  \"Afraid of the Dark left me with the impressio...\n",
        "4   \"12128_7\"  \"A very accurate depiction of small time mob l..."
       ]
      }
     ],
     "prompt_number": 5
    },
    {
     "cell_type": "code",
     "collapsed": false,
     "input": [
      "\n",
      "unlabeled_train = pd.read_csv( \"unlabeledTrainData.tsv\", header=0, \n",
      " delimiter=\"\\t\", quoting=3 )"
     ],
     "language": "python",
     "metadata": {},
     "outputs": [],
     "prompt_number": 6
    },
    {
     "cell_type": "code",
     "collapsed": false,
     "input": [
      "unlabeled_train.head()"
     ],
     "language": "python",
     "metadata": {},
     "outputs": [
      {
       "html": [
        "<div style=\"max-height:1000px;max-width:1500px;overflow:auto;\">\n",
        "<table border=\"1\" class=\"dataframe\">\n",
        "  <thead>\n",
        "    <tr style=\"text-align: right;\">\n",
        "      <th></th>\n",
        "      <th>id</th>\n",
        "      <th>review</th>\n",
        "    </tr>\n",
        "  </thead>\n",
        "  <tbody>\n",
        "    <tr>\n",
        "      <th>0</th>\n",
        "      <td>  \"9999_0\"</td>\n",
        "      <td> \"Watching Time Chasers, it obvious that it was...</td>\n",
        "    </tr>\n",
        "    <tr>\n",
        "      <th>1</th>\n",
        "      <td> \"45057_0\"</td>\n",
        "      <td> \"I saw this film about 20 years ago and rememb...</td>\n",
        "    </tr>\n",
        "    <tr>\n",
        "      <th>2</th>\n",
        "      <td> \"15561_0\"</td>\n",
        "      <td> \"Minor Spoilers&lt;br /&gt;&lt;br /&gt;In New York, Joan B...</td>\n",
        "    </tr>\n",
        "    <tr>\n",
        "      <th>3</th>\n",
        "      <td>  \"7161_0\"</td>\n",
        "      <td> \"I went to see this film with a great deal of ...</td>\n",
        "    </tr>\n",
        "    <tr>\n",
        "      <th>4</th>\n",
        "      <td> \"43971_0\"</td>\n",
        "      <td> \"Yes, I agree with everyone on this site this ...</td>\n",
        "    </tr>\n",
        "  </tbody>\n",
        "</table>\n",
        "</div>"
       ],
       "metadata": {},
       "output_type": "pyout",
       "prompt_number": 7,
       "text": [
        "          id                                             review\n",
        "0   \"9999_0\"  \"Watching Time Chasers, it obvious that it was...\n",
        "1  \"45057_0\"  \"I saw this film about 20 years ago and rememb...\n",
        "2  \"15561_0\"  \"Minor Spoilers<br /><br />In New York, Joan B...\n",
        "3   \"7161_0\"  \"I went to see this film with a great deal of ...\n",
        "4  \"43971_0\"  \"Yes, I agree with everyone on this site this ..."
       ]
      }
     ],
     "prompt_number": 7
    },
    {
     "cell_type": "code",
     "collapsed": false,
     "input": [
      "from bs4 import BeautifulSoup\n",
      "import re"
     ],
     "language": "python",
     "metadata": {},
     "outputs": [],
     "prompt_number": 14
    },
    {
     "cell_type": "code",
     "collapsed": false,
     "input": [],
     "language": "python",
     "metadata": {},
     "outputs": [
      {
       "output_type": "stream",
       "stream": "stdout",
       "text": [
        "Requirement already satisfied (use --upgrade to upgrade): nltk in c:\\anaconda\\lib\\site-packages\n"
       ]
      }
     ],
     "prompt_number": 12
    },
    {
     "cell_type": "code",
     "collapsed": false,
     "input": [],
     "language": "python",
     "metadata": {},
     "outputs": []
    }
   ],
   "metadata": {}
  }
 ]
}